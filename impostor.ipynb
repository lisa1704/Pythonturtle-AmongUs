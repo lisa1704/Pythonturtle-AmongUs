{
 "cells": [
  {
   "cell_type": "code",
   "execution_count": 8,
   "metadata": {},
   "outputs": [],
   "source": [
    "import turtle as t\n",
    "body_color='red'\n",
    "body_shadow=''\n",
    "glass_color='skyblue'\n",
    "glass_shadow=''\n",
    "\n",
    "s=t.getscreen()\n",
    "t=t.Turtle()"
   ]
  },
  {
   "cell_type": "code",
   "execution_count": 9,
   "metadata": {},
   "outputs": [],
   "source": [
    "def body():\n",
    "    #draw the body\n",
    "    t.pensize(20)\n",
    "    t.fillcolor(body_color)\n",
    "    t.begin_fill()\n",
    "    \n",
    "    #right side\n",
    "    t.right(90)\n",
    "    t.forward(50)\n",
    "    t.right(180)\n",
    "    t.circle(40,-180)\n",
    "    t.right(180)\n",
    "    t.forward(200)\n",
    "    \n",
    "    #head curve\n",
    "    t.right(180)\n",
    "    t.circle(100,-180)\n",
    "    \n",
    "    #left side\n",
    "    t.backward(20)\n",
    "    t.left(15)\n",
    "    t.circle(500,-20)\n",
    "    t.backward(20)\n",
    "    \n",
    "    t.circle(40,-180)\n",
    "    t.left(7)\n",
    "    t.backward(50)\n",
    "    \n",
    "    #hip\n",
    "    t.up()\n",
    "    t.left(90)\n",
    "    t.forward(10)\n",
    "    t.right(90)\n",
    "    t.down()\n",
    "    t.right(240)\n",
    "    t.circle(50,-70)\n",
    "    \n",
    "    t.end_fill()"
   ]
  },
  {
   "cell_type": "code",
   "execution_count": 10,
   "metadata": {},
   "outputs": [],
   "source": [
    "def glass():\n",
    "    t.up()\n",
    "    \n",
    "    t.right(230)\n",
    "    t.forward(100)\n",
    "    t.left(90)\n",
    "    t.forward(20)\n",
    "    t.right(90)\n",
    "    \n",
    "    t.down()\n",
    "    t.fillcolor(glass_color)\n",
    "    t.begin_fill()\n",
    "    \n",
    "    t.right(150)\n",
    "    t.circle(90,-55)\n",
    "    t.right(180)\n",
    "    t.forward(1)\n",
    "    t.right(180)\n",
    "    t.circle(10,-65)\n",
    "    t.right(180)\n",
    "    t.forward(110)\n",
    "    t.right(180)\n",
    "    \n",
    "    t.circle(50,-190)\n",
    "    t.right(170)\n",
    "    t.forward(80)\n",
    "    \n",
    "    t.right(180)\n",
    "    t.circle(45,-30)\n",
    "    \n",
    "    t.end_fill()"
   ]
  },
  {
   "cell_type": "code",
   "execution_count": 11,
   "metadata": {},
   "outputs": [],
   "source": [
    "def backpack():\n",
    "    t.up()\n",
    "    t.right(60)\n",
    "    t.forward(100)\n",
    "    t.right(90)\n",
    "    t.forward(75)\n",
    "    \n",
    "    t.fillcolor(body_color)\n",
    "    t.begin_fill()\n",
    "    \n",
    "    t.down()\n",
    "    t.forward(30)\n",
    "    t.right(255)\n",
    "    \n",
    "    t.circle(300,-30)\n",
    "    t.right(260)\n",
    "    t.forward(30)\n",
    "    \n",
    "    t.end_fill()\n",
    "    \n",
    "    "
   ]
  },
  {
   "cell_type": "code",
   "execution_count": 12,
   "metadata": {},
   "outputs": [],
   "source": [
    "body()\n",
    "glass()\n",
    "backpack()\n",
    "\n",
    "t.screen.exitonclick()"
   ]
  },
  {
   "cell_type": "code",
   "execution_count": null,
   "metadata": {},
   "outputs": [],
   "source": []
  }
 ],
 "metadata": {
  "kernelspec": {
   "display_name": "Python 3",
   "language": "python",
   "name": "python3"
  },
  "language_info": {
   "codemirror_mode": {
    "name": "ipython",
    "version": 3
   },
   "file_extension": ".py",
   "mimetype": "text/x-python",
   "name": "python",
   "nbconvert_exporter": "python",
   "pygments_lexer": "ipython3",
   "version": "3.7.6"
  }
 },
 "nbformat": 4,
 "nbformat_minor": 4
}
